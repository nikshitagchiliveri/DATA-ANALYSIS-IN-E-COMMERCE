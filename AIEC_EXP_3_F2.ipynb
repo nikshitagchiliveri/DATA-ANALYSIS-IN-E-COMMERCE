{
  "nbformat": 4,
  "nbformat_minor": 0,
  "metadata": {
    "colab": {
      "private_outputs": true,
      "provenance": [],
      "authorship_tag": "ABX9TyOAqV4qoCijjibx/A5LCq5U",
      "include_colab_link": true
    },
    "kernelspec": {
      "name": "python3",
      "display_name": "Python 3"
    },
    "language_info": {
      "name": "python"
    }
  },
  "cells": [
    {
      "cell_type": "markdown",
      "metadata": {
        "id": "view-in-github",
        "colab_type": "text"
      },
      "source": [
        "<a href=\"https://colab.research.google.com/github/nikshitagchiliveri/DATA-ANALYSIS-IN-E-COMMERCE/blob/main/AIEC_EXP_3_F2.ipynb\" target=\"_parent\"><img src=\"https://colab.research.google.com/assets/colab-badge.svg\" alt=\"Open In Colab\"/></a>"
      ]
    },
    {
      "cell_type": "code",
      "execution_count": null,
      "metadata": {
        "id": "fQkQDg9KBuSL"
      },
      "outputs": [],
      "source": [
        "import pandas as pd\n",
        "import matplotlib.pyplot as plt\n",
        "import seaborn as sns\n",
        "from sklearn.cluster import KMeans\n",
        "from sklearn.preprocessing import StandardScaler\n",
        "from mlxtend.frequent_patterns import apriori, association_rules"
      ]
    },
    {
      "cell_type": "code",
      "source": [
        "df = pd.read_excel('/content/Online Retail.xlsx')\n",
        "df.head()"
      ],
      "metadata": {
        "id": "Z2sse2soB6-j"
      },
      "execution_count": null,
      "outputs": []
    },
    {
      "cell_type": "code",
      "source": [
        "# Drop missing values\n",
        "df = df.dropna()"
      ],
      "metadata": {
        "id": "oiBiTdQJChh0"
      },
      "execution_count": null,
      "outputs": []
    },
    {
      "cell_type": "code",
      "source": [
        "df.isnull().sum()"
      ],
      "metadata": {
        "id": "IfQOvFjMEBtR"
      },
      "execution_count": null,
      "outputs": []
    },
    {
      "cell_type": "code",
      "source": [
        "# Remove negative quantities (possible returns)\n",
        "df = df[df['Quantity'] > 0]"
      ],
      "metadata": {
        "id": "jVNPZE9RDPvU"
      },
      "execution_count": null,
      "outputs": []
    },
    {
      "cell_type": "code",
      "source": [
        "# Add a Total Price column\n",
        "df['TotalPrice'] = df['Quantity'] * df['UnitPrice']"
      ],
      "metadata": {
        "id": "WrII6EvUDRjo"
      },
      "execution_count": null,
      "outputs": []
    },
    {
      "cell_type": "code",
      "source": [
        "print(df.describe())"
      ],
      "metadata": {
        "id": "q7M4r6lfDdLO"
      },
      "execution_count": null,
      "outputs": []
    },
    {
      "cell_type": "code",
      "source": [
        "# Top 10 countries with the highest number of customers\n",
        "top_countries = df['Country'].value_counts().head(10)\n",
        "plt.figure(figsize=(10, 5))\n",
        "sns.barplot(x=top_countries.values, y=top_countries.index, palette=\"viridis\")\n",
        "plt.title(\"Top 10 Countries by Number of Transactions\")\n",
        "plt.xlabel(\"Number of Transactions\")\n",
        "plt.ylabel(\"Country\")\n",
        "plt.show()"
      ],
      "metadata": {
        "id": "hij4DthiDgHW"
      },
      "execution_count": null,
      "outputs": []
    },
    {
      "cell_type": "code",
      "source": [
        "# Add TotalPrice column to the DataFrame\n",
        "df['TotalPrice'] = df['Quantity'] * df['UnitPrice']\n",
        "# Select features for segmentation\n",
        "segmentation_data = df.groupby('CustomerID').agg({\n",
        "'TotalPrice': 'sum',\n",
        "'InvoiceNo': 'nunique',\n",
        "'Quantity': 'sum'\n",
        "}).rename(columns={'InvoiceNo': 'UniquePurchases'})"
      ],
      "metadata": {
        "id": "ddFuSzWeE2Mv"
      },
      "execution_count": null,
      "outputs": []
    },
    {
      "cell_type": "code",
      "source": [
        "# Scale the data\n",
        "scaler = StandardScaler()\n",
        "scaled_data = scaler.fit_transform(segmentation_data)"
      ],
      "metadata": {
        "id": "tlJVZFwgFeFV"
      },
      "execution_count": null,
      "outputs": []
    },
    {
      "cell_type": "code",
      "source": [
        "# Elbow method to determine optimal clusters\n",
        "inertia = []\n",
        "k_range = range(1, 11)\n",
        "for k in k_range:\n",
        "  kmeans = KMeans(n_clusters=k, random_state=42)\n",
        "  kmeans.fit(scaled_data)\n",
        "  inertia.append(kmeans.inertia_)"
      ],
      "metadata": {
        "id": "C_WGgZcdFiXF"
      },
      "execution_count": null,
      "outputs": []
    },
    {
      "cell_type": "code",
      "source": [
        "# Plot the Elbow Curve\n",
        "plt.figure(figsize=(9, 5))\n",
        "plt.plot(k_range, inertia, marker='o', linestyle='-.', color='b')\n",
        "plt.title(\"Elbow Method for Optimal K\")\n",
        "plt.xlabel(\"Number of Clusters (k)\")\n",
        "plt.ylabel(\"Inertia\")\n",
        "plt.grid(True)\n",
        "plt.show()"
      ],
      "metadata": {
        "id": "9uDu9xQWFmrm"
      },
      "execution_count": null,
      "outputs": []
    },
    {
      "cell_type": "code",
      "source": [
        "# Apply KMeans clustering with optimal k (assume k=3 based on elbow curve)\n",
        "optimal_k = 3\n",
        "kmeans = KMeans(n_clusters=optimal_k, random_state=42)\n",
        "segmentation_data['Cluster'] = kmeans.fit_predict(scaled_data)"
      ],
      "metadata": {
        "id": "YYrFnpdMF2X-"
      },
      "execution_count": null,
      "outputs": []
    },
    {
      "cell_type": "code",
      "source": [
        "# Visualize the clusters\n",
        "plt.figure(figsize=(9, 5))\n",
        "sns.scatterplot(\n",
        "x=segmentation_data['UniquePurchases'],\n",
        "y=segmentation_data['TotalPrice'],\n",
        "hue=segmentation_data['Cluster'],\n",
        "palette='viridis',\n",
        "s=100\n",
        " )\n",
        "plt.title(\"Customer Segmentation\")\n",
        "plt.xlabel(\"Unique Purchases\")\n",
        "plt.ylabel(\"Total Spending (Total Price)\")\n",
        "plt.legend(title=\"Cluster\")\n",
        "plt.show()"
      ],
      "metadata": {
        "id": "xhFxlxN0F46m"
      },
      "execution_count": null,
      "outputs": []
    },
    {
      "cell_type": "code",
      "source": [
        "# Prepare the data for Market Basket Analysis\n",
        "basket = df.groupby(['InvoiceNo', 'Description'])['Quantity'].sum().unstack().fillna(0)"
      ],
      "metadata": {
        "id": "lX81nNOwGIyn"
      },
      "execution_count": null,
      "outputs": []
    },
    {
      "cell_type": "code",
      "source": [
        "# Convert values to binary (0 or 1)\n",
        "basket = basket.applymap(lambda x: 1 if x > 0 else 0)"
      ],
      "metadata": {
        "id": "CXXGobzaGP0b"
      },
      "execution_count": null,
      "outputs": []
    },
    {
      "cell_type": "code",
      "source": [
        "# Perform Apriori Algorithm\n",
        "frequent_itemsets = apriori(basket, min_support=0.02, use_colnames=True)"
      ],
      "metadata": {
        "id": "zFruvD8hGTLa"
      },
      "execution_count": null,
      "outputs": []
    },
    {
      "cell_type": "code",
      "source": [
        "# Generate Association Rules (Add num_itemsets argument)\n",
        "rules = association_rules(frequent_itemsets, metric=\"lift\", min_threshold=1, num_itemsets=2)"
      ],
      "metadata": {
        "id": "NNki8QmVGWlj"
      },
      "execution_count": null,
      "outputs": []
    },
    {
      "cell_type": "code",
      "source": [
        "# Sort the rules based on lift\n",
        "rules = rules.sort_values(by='lift', ascending=False)"
      ],
      "metadata": {
        "id": "EyL2Y6hdGbLr"
      },
      "execution_count": null,
      "outputs": []
    },
    {
      "cell_type": "code",
      "source": [
        "# Display top rules\n",
        "print(\"\\nTop Association Rules:\")\n",
        "print(rules.head())"
      ],
      "metadata": {
        "id": "n8tyKZuCGeQT"
      },
      "execution_count": null,
      "outputs": []
    },
    {
      "cell_type": "code",
      "source": [
        " # Plot top 10 rules by lift\n",
        "top_rules = rules.head(10)\n",
        "plt.figure(figsize=(9, 5))\n",
        "sns.barplot(\n",
        "x=top_rules['lift'],\n",
        "y=top_rules['antecedents'].apply(lambda x: ', '.join(list(x))),)\n",
        "plt.title(\"Top 10 Association Rules by Lift\")\n",
        "plt.xlabel(\"Lift\")\n",
        "plt.ylabel(\"Itemset\")\n",
        "plt.show()"
      ],
      "metadata": {
        "id": "rMuHA_fZGi82"
      },
      "execution_count": null,
      "outputs": []
    }
  ]
}