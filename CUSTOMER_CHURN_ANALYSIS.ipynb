{
  "nbformat": 4,
  "nbformat_minor": 0,
  "metadata": {
    "colab": {
      "private_outputs": true,
      "provenance": [],
      "authorship_tag": "ABX9TyM0GHm6Y8iCF53tWuuTrUjd",
      "include_colab_link": true
    },
    "kernelspec": {
      "name": "python3",
      "display_name": "Python 3"
    },
    "language_info": {
      "name": "python"
    }
  },
  "cells": [
    {
      "cell_type": "markdown",
      "metadata": {
        "id": "view-in-github",
        "colab_type": "text"
      },
      "source": [
        "<a href=\"https://colab.research.google.com/github/nikshitagchiliveri/DATA-ANALYSIS-IN-E-COMMERCE/blob/main/CUSTOMER_CHURN_ANALYSIS.ipynb\" target=\"_parent\"><img src=\"https://colab.research.google.com/assets/colab-badge.svg\" alt=\"Open In Colab\"/></a>"
      ]
    },
    {
      "cell_type": "code",
      "execution_count": null,
      "metadata": {
        "id": "wtcUQnC-YYvV"
      },
      "outputs": [],
      "source": [
        "from google.colab import files\n",
        "uploaded = files.upload()"
      ]
    },
    {
      "cell_type": "code",
      "source": [
        "!kaggle datasets download -d ankitverma2010/ecommerce-customer-churn-analysis-and-prediction"
      ],
      "metadata": {
        "id": "2xdDrQJNY_Zp"
      },
      "execution_count": null,
      "outputs": []
    },
    {
      "cell_type": "code",
      "source": [
        "import zipfile\n",
        "zip_ref = zipfile.ZipFile('/content/ecommerce-customer-churn-analysis-and-prediction.zip', 'r')\n",
        "zip_ref.extractall('/content')\n",
        "zip_ref.close()"
      ],
      "metadata": {
        "id": "3ib-EXbBbnyI"
      },
      "execution_count": null,
      "outputs": []
    },
    {
      "cell_type": "code",
      "source": [
        "import pandas as pd\n",
        "df = pd.read_excel('/content/E Commerce Dataset.xlsx', sheet_name='E Comm')\n",
        "df.head()"
      ],
      "metadata": {
        "id": "moezL-Wub3pJ"
      },
      "execution_count": null,
      "outputs": []
    },
    {
      "cell_type": "code",
      "source": [
        "df.isnull().sum()"
      ],
      "metadata": {
        "id": "nW-MroSLcACR"
      },
      "execution_count": null,
      "outputs": []
    },
    {
      "cell_type": "code",
      "source": [
        "df.shape"
      ],
      "metadata": {
        "id": "zVCa3UKndE5K"
      },
      "execution_count": null,
      "outputs": []
    },
    {
      "cell_type": "code",
      "source": [
        "df['Tenure'] = df['Tenure'].fillna(0)"
      ],
      "metadata": {
        "id": "eezqTQZKdIVh"
      },
      "execution_count": null,
      "outputs": []
    },
    {
      "cell_type": "code",
      "source": [
        "df['WarehouseToHome'] = df['WarehouseToHome'].fillna(df['WarehouseToHome'].mean())"
      ],
      "metadata": {
        "id": "VnsANZyzeOaJ"
      },
      "execution_count": null,
      "outputs": []
    },
    {
      "cell_type": "code",
      "source": [
        "df['HourSpendOnApp'] = df['HourSpendOnApp'].fillna(df['HourSpendOnApp'].mean())"
      ],
      "metadata": {
        "id": "TxKDA8FkhVYx"
      },
      "execution_count": null,
      "outputs": []
    },
    {
      "cell_type": "code",
      "source": [
        "df['OrderAmountHikeFromlastYear'] = df['OrderAmountHikeFromlastYear'].fillna(df['OrderAmountHikeFromlastYear'].mean())"
      ],
      "metadata": {
        "id": "2mLmzpCbiijJ"
      },
      "execution_count": null,
      "outputs": []
    },
    {
      "cell_type": "code",
      "source": [
        "df['CouponUsed'] = df['CouponUsed'].fillna(0)"
      ],
      "metadata": {
        "id": "79uSeJMdoeip"
      },
      "execution_count": null,
      "outputs": []
    },
    {
      "cell_type": "code",
      "source": [
        "df['DaySinceLastOrder'].fillna(df['DaySinceLastOrder'].mode()[0] , inplace= True)"
      ],
      "metadata": {
        "id": "QiaefEetlf8y"
      },
      "execution_count": null,
      "outputs": []
    },
    {
      "cell_type": "code",
      "source": [
        "from sklearn.impute import KNNImputer\n",
        "imputer = KNNImputer(n_neighbors=5)\n",
        "df['OrderCount'] = (imputer.fit_transform(df[['OrderCount']]))"
      ],
      "metadata": {
        "id": "fNUspdq9mNYS"
      },
      "execution_count": null,
      "outputs": []
    },
    {
      "cell_type": "code",
      "source": [
        "df.isnull().sum()"
      ],
      "metadata": {
        "id": "w4Zc6Oh8peaq"
      },
      "execution_count": null,
      "outputs": []
    },
    {
      "cell_type": "code",
      "source": [
        "df['PreferredLoginDevice'] = df['PreferredLoginDevice'].replace('Phone', 'Mobile Phone')"
      ],
      "metadata": {
        "id": "Ybuth3XRqUhq"
      },
      "execution_count": null,
      "outputs": []
    },
    {
      "cell_type": "code",
      "source": [
        "print(df['PreferredLoginDevice'].unique())\n",
        "print(df['PreferredPaymentMode'].unique())"
      ],
      "metadata": {
        "id": "LDR87MacqoW5"
      },
      "execution_count": null,
      "outputs": []
    },
    {
      "cell_type": "code",
      "source": [
        "df['PreferredPaymentMode'] = df['PreferredPaymentMode'].replace({'CC': 'Credit Card', 'COD': 'Cash on Delivery'})"
      ],
      "metadata": {
        "id": "SPfaJ2dyqxOS"
      },
      "execution_count": null,
      "outputs": []
    },
    {
      "cell_type": "code",
      "source": [
        "print(df['Gender'].unique())\n",
        "print(df['PreferedOrderCat'].unique())"
      ],
      "metadata": {
        "id": "e7jKpEqO0BfQ"
      },
      "execution_count": null,
      "outputs": []
    },
    {
      "cell_type": "code",
      "source": [
        "df['PreferedOrderCat'] = df['PreferedOrderCat'].replace('Phone', 'Mobile Phone')"
      ],
      "metadata": {
        "id": "oHk1DLwC0V8i"
      },
      "execution_count": null,
      "outputs": []
    },
    {
      "cell_type": "code",
      "source": [
        "print(df['PreferedOrderCat'].unique())"
      ],
      "metadata": {
        "id": "65a1Zxx01Giy"
      },
      "execution_count": null,
      "outputs": []
    },
    {
      "cell_type": "code",
      "source": [
        "import matplotlib.pyplot as plt\n",
        "df.hist(bins=30, figsize=(15, 10))\n",
        "plt.show()"
      ],
      "metadata": {
        "id": "Bq7KLgrZ2I4Z"
      },
      "execution_count": null,
      "outputs": []
    },
    {
      "cell_type": "code",
      "source": [
        "import seaborn as sns\n",
        "import matplotlib.pyplot as plt\n",
        "\n",
        "# Select only numeric columns for correlation calculation\n",
        "numeric_df = df.select_dtypes(include=['number'])\n",
        "\n",
        "plt.figure(figsize=(12, 8))\n",
        "sns.heatmap(numeric_df.corr(), annot=True, cmap='coolwarm', fmt='.2f')\n",
        "plt.show()"
      ],
      "metadata": {
        "id": "eCXJPq-044gr"
      },
      "execution_count": null,
      "outputs": []
    },
    {
      "cell_type": "code",
      "source": [
        "sns.scatterplot(data=df, x='SatisfactionScore', y='HourSpendOnApp', hue='Churn')\n",
        "plt.show()"
      ],
      "metadata": {
        "id": "xTmQXF8I7X8w"
      },
      "execution_count": null,
      "outputs": []
    },
    {
      "cell_type": "code",
      "source": [
        "sns.boxplot(data=df, x='CityTier', y='CashbackAmount', hue='Churn')\n",
        "plt.show()"
      ],
      "metadata": {
        "id": "mf2eyedn7bve"
      },
      "execution_count": null,
      "outputs": []
    },
    {
      "cell_type": "code",
      "source": [
        "sns.countplot(data=df, x='PreferredLoginDevice', hue='Churn')\n",
        "plt.show()"
      ],
      "metadata": {
        "id": "otnhwOMo7bxh"
      },
      "execution_count": null,
      "outputs": []
    },
    {
      "cell_type": "code",
      "source": [
        "sns.countplot(data=df, x='MaritalStatus', hue='Churn')\n",
        "plt.show()"
      ],
      "metadata": {
        "id": "2QY-cBxO7b1I"
      },
      "execution_count": null,
      "outputs": []
    },
    {
      "cell_type": "code",
      "source": [
        "sns.barplot(data=df, x='PreferredPaymentMode', y='Churn')\n",
        "plt.show()"
      ],
      "metadata": {
        "id": "e2QfnqB_7b4g"
      },
      "execution_count": null,
      "outputs": []
    },
    {
      "cell_type": "code",
      "source": [
        "df.to_csv('cleaned_data.csv', index=False)\n",
        "print(\"Cleaned data has been saved as 'cleaned_data.csv'.\")"
      ],
      "metadata": {
        "id": "G-V2Mi1zBjdX"
      },
      "execution_count": null,
      "outputs": []
    },
    {
      "cell_type": "code",
      "source": [
        "from sklearn.model_selection import train_test_split\n",
        "from sklearn.preprocessing import StandardScaler, OneHotEncoder\n",
        "from sklearn.compose import ColumnTransformer\n",
        "from sklearn.pipeline import Pipeline\n",
        "from sklearn.linear_model import LogisticRegression\n",
        "from sklearn.metrics import accuracy_score, precision_score, recall_score, f1_score, roc_auc_score"
      ],
      "metadata": {
        "id": "Crpeo5llBUO3"
      },
      "execution_count": null,
      "outputs": []
    },
    {
      "cell_type": "code",
      "source": [
        "df = pd.read_csv('/content/cleaned_data.csv')"
      ],
      "metadata": {
        "id": "cUQrhX2WCQ-X"
      },
      "execution_count": null,
      "outputs": []
    },
    {
      "cell_type": "code",
      "source": [
        "X = df.drop(columns='Churn')\n",
        "y = df['Churn']"
      ],
      "metadata": {
        "id": "nIcIbI2M-KN3"
      },
      "execution_count": null,
      "outputs": []
    },
    {
      "cell_type": "code",
      "source": [
        "# Identify categorical and numerical columns\n",
        "categorical_cols = X.select_dtypes(include=['object']).columns\n",
        "numerical_cols = X.select_dtypes(include=['number']).columns"
      ],
      "metadata": {
        "id": "9K3kelcLCX5v"
      },
      "execution_count": null,
      "outputs": []
    },
    {
      "cell_type": "code",
      "source": [
        "# Preprocessing of the pipeline\n",
        "preprocessor = ColumnTransformer(\n",
        "    transformers=[\n",
        "        ('num', StandardScaler(), numerical_cols),\n",
        "        ('cat', OneHotEncoder(handle_unknown='ignore'), categorical_cols)\n",
        "    ])"
      ],
      "metadata": {
        "id": "dhyHU_YSCctJ"
      },
      "execution_count": null,
      "outputs": []
    },
    {
      "cell_type": "code",
      "source": [
        "X_train, X_test, y_train, y_test = train_test_split(X, y, test_size=0.2, random_state=42)\n",
        "\n",
        "model = LogisticRegression()"
      ],
      "metadata": {
        "id": "1u-r8A6ZCkg7"
      },
      "execution_count": null,
      "outputs": []
    },
    {
      "cell_type": "code",
      "source": [
        "pipeline = Pipeline(steps=[('preprocessor', preprocessor), ('classifier', model)])\n",
        "pipeline.fit(X_train, y_train)"
      ],
      "metadata": {
        "id": "Or7ljaNeCpMo"
      },
      "execution_count": null,
      "outputs": []
    },
    {
      "cell_type": "code",
      "source": [
        "y_pred = pipeline.predict(X_test)"
      ],
      "metadata": {
        "id": "YPZDdqulCtT1"
      },
      "execution_count": null,
      "outputs": []
    },
    {
      "cell_type": "code",
      "source": [
        "accuracy = accuracy_score(y_test, y_pred)\n",
        "precision = precision_score(y_test, y_pred)\n",
        "recall = recall_score(y_test, y_pred)\n",
        "f1 = f1_score(y_test, y_pred)\n",
        "roc_auc = roc_auc_score(y_test, y_pred)\n",
        "\n",
        "print(\"Logistic Regression Performance:\")\n",
        "print(f\"Accuracy: {accuracy:.2f}\")\n",
        "print(f\"Precision: {precision:.2f}\")\n",
        "print(f\"Recall: {recall:.2f}\")\n",
        "print(f\"F1 Score: {f1:.2f}\")\n",
        "print(f\"ROC-AUC Score: {roc_auc:.2f}\")"
      ],
      "metadata": {
        "id": "W7rRG0JpCxKw"
      },
      "execution_count": null,
      "outputs": []
    },
    {
      "cell_type": "code",
      "source": [
        "import pandas as pd\n",
        "\n",
        "sample_data = {\n",
        "    'CustomerID': [50010],\n",
        "    'Tenure': [12],\n",
        "    'PreferredLoginDevice': ['Mobile Phone'],\n",
        "    'CityTier': [1],\n",
        "    'WarehouseToHome': [7.0],\n",
        "    'PreferredPaymentMode': ['Credit Card'],\n",
        "    'Gender': ['Female'],\n",
        "    'HourSpendOnApp': [3.5],\n",
        "    'NumberOfDeviceRegistered': [2],\n",
        "    'PreferedOrderCat': ['Mobile Phone'],\n",
        "    'SatisfactionScore': [3],\n",
        "    'MaritalStatus': ['Married'],\n",
        "    'NumberOfAddress': [2],\n",
        "    'Complain': [0],\n",
        "    'OrderAmountHikeFromlastYear': [12.0],\n",
        "    'CouponUsed': [5],\n",
        "    'OrderCount': [10],\n",
        "    'DaySinceLastOrder': [15],\n",
        "    'CashbackAmount': [50.0]\n",
        "}\n",
        "\n",
        "sample_df = pd.DataFrame(sample_data)\n",
        "\n",
        "# Using the trained pipeline to predict the churn probability for the sample customer\n",
        "churn_probability = pipeline.predict_proba(sample_df)[:, 1]\n",
        "\n",
        "print(f\"Churn Probability for the sample customer: {churn_probability[0]:.2f}\")"
      ],
      "metadata": {
        "id": "cmn8WpBLBWiP"
      },
      "execution_count": null,
      "outputs": []
    },
    {
      "cell_type": "code",
      "source": [
        "sample_data = {\n",
        "    'CustomerID': [50030],\n",
        "    'Tenure': [0],\n",
        "    'PreferredLoginDevice': ['Mobile Phone'],\n",
        "    'CityTier': [3],\n",
        "    'WarehouseToHome': [50.0],\n",
        "    'PreferredPaymentMode': ['Debit Card'],\n",
        "    'Gender': ['Male'],\n",
        "    'HourSpendOnApp': [0.5],\n",
        "    'NumberOfDeviceRegistered': [1],\n",
        "    'PreferedOrderCat': ['Laptop & Accessory'],\n",
        "    'SatisfactionScore': [0],\n",
        "    'MaritalStatus': ['Single'],\n",
        "    'NumberOfAddress': [10],\n",
        "    'Complain': [5],\n",
        "    'OrderAmountHikeFromlastYear': [50.0],\n",
        "    'CouponUsed': [0],\n",
        "    'OrderCount': [0],\n",
        "    'DaySinceLastOrder': [100],\n",
        "    'CashbackAmount': [0.0]\n",
        "}\n",
        "\n",
        "sample_df = pd.DataFrame(sample_data)\n",
        "\n",
        "# Use the trained pipeline to predict the churn probability for the extreme high-risk sample customer\n",
        "churn_probability = pipeline.predict_proba(sample_df)[:, 1]\n",
        "\n",
        "print(f\"Churn Probability for the extreme high-risk sample customer: {churn_probability[0]:.2f}\")"
      ],
      "metadata": {
        "id": "eN_TQpoNCGMp"
      },
      "execution_count": null,
      "outputs": []
    }
  ]
}